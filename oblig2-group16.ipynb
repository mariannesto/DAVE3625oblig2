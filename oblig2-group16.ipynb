{
 "cells": [
  {
   "cell_type": "markdown",
   "id": "b6a02e27",
   "metadata": {},
   "source": [
    "<h1>DAVE3625 Oblig. 2 - Machine Learning</h1>"
   ]
  },
  {
   "cell_type": "code",
   "execution_count": 1,
   "id": "f01c96c2",
   "metadata": {},
   "outputs": [],
   "source": [
    "%matplotlib inline\n",
    "\n",
    "import numpy as np\n",
    "\n",
    "import pandas as pd\n",
    "import matplotlib.pyplot as plt\n",
    "import datetime as dt\n",
    "\n",
    "from sklearn import metrics\n",
    "from sklearn import preprocessing\n",
    "from sklearn.linear_model import LinearRegression\n",
    "from sklearn.model_selection import train_test_split"
   ]
  },
  {
   "cell_type": "code",
   "execution_count": 2,
   "id": "c04784e5",
   "metadata": {},
   "outputs": [
    {
     "data": {
      "text/html": [
       "<div>\n",
       "<style scoped>\n",
       "    .dataframe tbody tr th:only-of-type {\n",
       "        vertical-align: middle;\n",
       "    }\n",
       "\n",
       "    .dataframe tbody tr th {\n",
       "        vertical-align: top;\n",
       "    }\n",
       "\n",
       "    .dataframe thead th {\n",
       "        text-align: right;\n",
       "    }\n",
       "</style>\n",
       "<table border=\"1\" class=\"dataframe\">\n",
       "  <thead>\n",
       "    <tr style=\"text-align: right;\">\n",
       "      <th></th>\n",
       "      <th>Date</th>\n",
       "      <th>Open</th>\n",
       "      <th>High</th>\n",
       "      <th>Low</th>\n",
       "      <th>Close</th>\n",
       "      <th>Adj Close</th>\n",
       "      <th>Volume</th>\n",
       "    </tr>\n",
       "  </thead>\n",
       "  <tbody>\n",
       "    <tr>\n",
       "      <th>0</th>\n",
       "      <td>2010-06-29</td>\n",
       "      <td>3.800000</td>\n",
       "      <td>5.000000</td>\n",
       "      <td>3.508000</td>\n",
       "      <td>4.778000</td>\n",
       "      <td>4.778000</td>\n",
       "      <td>93831500</td>\n",
       "    </tr>\n",
       "    <tr>\n",
       "      <th>1</th>\n",
       "      <td>2010-06-30</td>\n",
       "      <td>5.158000</td>\n",
       "      <td>6.084000</td>\n",
       "      <td>4.660000</td>\n",
       "      <td>4.766000</td>\n",
       "      <td>4.766000</td>\n",
       "      <td>85935500</td>\n",
       "    </tr>\n",
       "    <tr>\n",
       "      <th>2</th>\n",
       "      <td>2010-07-01</td>\n",
       "      <td>5.000000</td>\n",
       "      <td>5.184000</td>\n",
       "      <td>4.054000</td>\n",
       "      <td>4.392000</td>\n",
       "      <td>4.392000</td>\n",
       "      <td>41094000</td>\n",
       "    </tr>\n",
       "    <tr>\n",
       "      <th>3</th>\n",
       "      <td>2010-07-02</td>\n",
       "      <td>4.600000</td>\n",
       "      <td>4.620000</td>\n",
       "      <td>3.742000</td>\n",
       "      <td>3.840000</td>\n",
       "      <td>3.840000</td>\n",
       "      <td>25699000</td>\n",
       "    </tr>\n",
       "    <tr>\n",
       "      <th>4</th>\n",
       "      <td>2010-07-06</td>\n",
       "      <td>4.000000</td>\n",
       "      <td>4.000000</td>\n",
       "      <td>3.166000</td>\n",
       "      <td>3.222000</td>\n",
       "      <td>3.222000</td>\n",
       "      <td>34334500</td>\n",
       "    </tr>\n",
       "    <tr>\n",
       "      <th>...</th>\n",
       "      <td>...</td>\n",
       "      <td>...</td>\n",
       "      <td>...</td>\n",
       "      <td>...</td>\n",
       "      <td>...</td>\n",
       "      <td>...</td>\n",
       "      <td>...</td>\n",
       "    </tr>\n",
       "    <tr>\n",
       "      <th>2840</th>\n",
       "      <td>2021-10-08</td>\n",
       "      <td>796.210022</td>\n",
       "      <td>796.380005</td>\n",
       "      <td>780.909973</td>\n",
       "      <td>785.489990</td>\n",
       "      <td>785.489990</td>\n",
       "      <td>16711100</td>\n",
       "    </tr>\n",
       "    <tr>\n",
       "      <th>2841</th>\n",
       "      <td>2021-10-11</td>\n",
       "      <td>787.650024</td>\n",
       "      <td>801.239990</td>\n",
       "      <td>785.500000</td>\n",
       "      <td>791.940002</td>\n",
       "      <td>791.940002</td>\n",
       "      <td>14200300</td>\n",
       "    </tr>\n",
       "    <tr>\n",
       "      <th>2842</th>\n",
       "      <td>2021-10-12</td>\n",
       "      <td>800.929993</td>\n",
       "      <td>812.320007</td>\n",
       "      <td>796.570007</td>\n",
       "      <td>805.719971</td>\n",
       "      <td>805.719971</td>\n",
       "      <td>22020000</td>\n",
       "    </tr>\n",
       "    <tr>\n",
       "      <th>2843</th>\n",
       "      <td>2021-10-13</td>\n",
       "      <td>810.469971</td>\n",
       "      <td>815.409973</td>\n",
       "      <td>805.780029</td>\n",
       "      <td>811.080017</td>\n",
       "      <td>811.080017</td>\n",
       "      <td>14120100</td>\n",
       "    </tr>\n",
       "    <tr>\n",
       "      <th>2844</th>\n",
       "      <td>2021-10-14</td>\n",
       "      <td>815.489990</td>\n",
       "      <td>820.250000</td>\n",
       "      <td>813.349976</td>\n",
       "      <td>818.320007</td>\n",
       "      <td>818.320007</td>\n",
       "      <td>12203200</td>\n",
       "    </tr>\n",
       "  </tbody>\n",
       "</table>\n",
       "<p>2845 rows × 7 columns</p>\n",
       "</div>"
      ],
      "text/plain": [
       "           Date        Open        High         Low       Close   Adj Close  \\\n",
       "0    2010-06-29    3.800000    5.000000    3.508000    4.778000    4.778000   \n",
       "1    2010-06-30    5.158000    6.084000    4.660000    4.766000    4.766000   \n",
       "2    2010-07-01    5.000000    5.184000    4.054000    4.392000    4.392000   \n",
       "3    2010-07-02    4.600000    4.620000    3.742000    3.840000    3.840000   \n",
       "4    2010-07-06    4.000000    4.000000    3.166000    3.222000    3.222000   \n",
       "...         ...         ...         ...         ...         ...         ...   \n",
       "2840 2021-10-08  796.210022  796.380005  780.909973  785.489990  785.489990   \n",
       "2841 2021-10-11  787.650024  801.239990  785.500000  791.940002  791.940002   \n",
       "2842 2021-10-12  800.929993  812.320007  796.570007  805.719971  805.719971   \n",
       "2843 2021-10-13  810.469971  815.409973  805.780029  811.080017  811.080017   \n",
       "2844 2021-10-14  815.489990  820.250000  813.349976  818.320007  818.320007   \n",
       "\n",
       "        Volume  \n",
       "0     93831500  \n",
       "1     85935500  \n",
       "2     41094000  \n",
       "3     25699000  \n",
       "4     34334500  \n",
       "...        ...  \n",
       "2840  16711100  \n",
       "2841  14200300  \n",
       "2842  22020000  \n",
       "2843  14120100  \n",
       "2844  12203200  \n",
       "\n",
       "[2845 rows x 7 columns]"
      ]
     },
     "execution_count": 2,
     "metadata": {},
     "output_type": "execute_result"
    }
   ],
   "source": [
    "url = \"https://raw.githubusercontent.com/umaimehm/Intro_to_AI_2021/main/assignment2-machinelearning/TSLA.csv\"\n",
    "df = pd.read_csv(url)\n",
    "\n",
    "# Source: Slack channel for this subject.\n",
    "df['Date'] = pd.to_datetime(df['Date'])\n",
    "\n",
    "df"
   ]
  },
  {
   "cell_type": "markdown",
   "id": "bb6325e4",
   "metadata": {},
   "source": [
    "<h4>Removing excessive columns that isn't necessary for our assignment.</h4>"
   ]
  },
  {
   "cell_type": "code",
   "execution_count": 3,
   "id": "b7af7fd1",
   "metadata": {},
   "outputs": [
    {
     "data": {
      "text/html": [
       "<div>\n",
       "<style scoped>\n",
       "    .dataframe tbody tr th:only-of-type {\n",
       "        vertical-align: middle;\n",
       "    }\n",
       "\n",
       "    .dataframe tbody tr th {\n",
       "        vertical-align: top;\n",
       "    }\n",
       "\n",
       "    .dataframe thead th {\n",
       "        text-align: right;\n",
       "    }\n",
       "</style>\n",
       "<table border=\"1\" class=\"dataframe\">\n",
       "  <thead>\n",
       "    <tr style=\"text-align: right;\">\n",
       "      <th></th>\n",
       "      <th>Date</th>\n",
       "      <th>Adj Close</th>\n",
       "    </tr>\n",
       "  </thead>\n",
       "  <tbody>\n",
       "    <tr>\n",
       "      <th>0</th>\n",
       "      <td>2010-06-29</td>\n",
       "      <td>4.778000</td>\n",
       "    </tr>\n",
       "    <tr>\n",
       "      <th>1</th>\n",
       "      <td>2010-06-30</td>\n",
       "      <td>4.766000</td>\n",
       "    </tr>\n",
       "    <tr>\n",
       "      <th>2</th>\n",
       "      <td>2010-07-01</td>\n",
       "      <td>4.392000</td>\n",
       "    </tr>\n",
       "    <tr>\n",
       "      <th>3</th>\n",
       "      <td>2010-07-02</td>\n",
       "      <td>3.840000</td>\n",
       "    </tr>\n",
       "    <tr>\n",
       "      <th>4</th>\n",
       "      <td>2010-07-06</td>\n",
       "      <td>3.222000</td>\n",
       "    </tr>\n",
       "    <tr>\n",
       "      <th>...</th>\n",
       "      <td>...</td>\n",
       "      <td>...</td>\n",
       "    </tr>\n",
       "    <tr>\n",
       "      <th>2840</th>\n",
       "      <td>2021-10-08</td>\n",
       "      <td>785.489990</td>\n",
       "    </tr>\n",
       "    <tr>\n",
       "      <th>2841</th>\n",
       "      <td>2021-10-11</td>\n",
       "      <td>791.940002</td>\n",
       "    </tr>\n",
       "    <tr>\n",
       "      <th>2842</th>\n",
       "      <td>2021-10-12</td>\n",
       "      <td>805.719971</td>\n",
       "    </tr>\n",
       "    <tr>\n",
       "      <th>2843</th>\n",
       "      <td>2021-10-13</td>\n",
       "      <td>811.080017</td>\n",
       "    </tr>\n",
       "    <tr>\n",
       "      <th>2844</th>\n",
       "      <td>2021-10-14</td>\n",
       "      <td>818.320007</td>\n",
       "    </tr>\n",
       "  </tbody>\n",
       "</table>\n",
       "<p>2845 rows × 2 columns</p>\n",
       "</div>"
      ],
      "text/plain": [
       "           Date   Adj Close\n",
       "0    2010-06-29    4.778000\n",
       "1    2010-06-30    4.766000\n",
       "2    2010-07-01    4.392000\n",
       "3    2010-07-02    3.840000\n",
       "4    2010-07-06    3.222000\n",
       "...         ...         ...\n",
       "2840 2021-10-08  785.489990\n",
       "2841 2021-10-11  791.940002\n",
       "2842 2021-10-12  805.719971\n",
       "2843 2021-10-13  811.080017\n",
       "2844 2021-10-14  818.320007\n",
       "\n",
       "[2845 rows x 2 columns]"
      ]
     },
     "execution_count": 3,
     "metadata": {},
     "output_type": "execute_result"
    }
   ],
   "source": [
    "df = df.drop(columns=['Open', 'High', 'Low', 'Close', 'Volume'])\n",
    "df"
   ]
  },
  {
   "cell_type": "markdown",
   "id": "8cb48f19",
   "metadata": {},
   "source": [
    "<h4>Visualization of the correlation between 'Date' and 'Adj Close'.</h4>"
   ]
  },
  {
   "cell_type": "code",
   "execution_count": 4,
   "id": "868a1c74",
   "metadata": {
    "scrolled": true
   },
   "outputs": [
    {
     "data": {
      "text/plain": [
       "<AxesSubplot:xlabel='Date'>"
      ]
     },
     "execution_count": 4,
     "metadata": {},
     "output_type": "execute_result"
    },
    {
     "data": {
      "image/png": "[encoded data removed]",
      "text/plain": [
       "<Figure size 1080x360 with 1 Axes>"
      ]
     },
     "metadata": {
      "needs_background": "light"
     },
     "output_type": "display_data"
    }
   ],
   "source": [
    "df.plot(figsize=(15,5), x = 'Date', y = 'Adj Close')"
   ]
  },
  {
   "cell_type": "markdown",
   "id": "5d038443",
   "metadata": {},
   "source": [
    "<h4>Changing datetime objects to type int in order to make it possible to train a model.</h4>\n",
    "<h4>The dates are now changed to the \"xth day after 01.01.01\" (Slack channel).</h4>"
   ]
  },
  {
   "cell_type": "code",
   "execution_count": 5,
   "id": "d84d5b6e",
   "metadata": {},
   "outputs": [],
   "source": [
    "# Source: Slack channel for this subject.\n",
    "df['Date']=df['Date'].map(dt.datetime.toordinal)"
   ]
  },
  {
   "cell_type": "markdown",
   "id": "e8fbc81d",
   "metadata": {},
   "source": [
    "<h4>Preparing the data by setting the test size to 20%.</h4>"
   ]
  },
  {
   "cell_type": "code",
   "execution_count": 6,
   "id": "c520bab1",
   "metadata": {},
   "outputs": [],
   "source": [
    "# Setting the test size to 20%\n",
    "X_train, X_test, y_train, y_test = train_test_split(df[['Date']], df[['Adj Close']], test_size=.2)"
   ]
  },
  {
   "cell_type": "markdown",
   "id": "1aa316e1",
   "metadata": {},
   "source": [
    "<h4>Preparing the data by splitting it into a testing set and a training set.</h4>"
   ]
  },
  {
   "cell_type": "code",
   "execution_count": 7,
   "id": "add118cd",
   "metadata": {},
   "outputs": [
    {
     "name": "stdout",
     "output_type": "stream",
     "text": [
      "                Date\n",
      "count     569.000000\n",
      "mean   736097.968366\n",
      "std      1162.414244\n",
      "min    733952.000000\n",
      "25%    735106.000000\n",
      "50%    736142.000000\n",
      "75%    737077.000000\n",
      "max    738074.000000\n"
     ]
    }
   ],
   "source": [
    "# Test set\n",
    "print(X_test.describe())"
   ]
  },
  {
   "cell_type": "code",
   "execution_count": 8,
   "id": "24efc47a",
   "metadata": {},
   "outputs": [
    {
     "name": "stdout",
     "output_type": "stream",
     "text": [
      "                Date\n",
      "count    2276.000000\n",
      "mean   735994.019772\n",
      "std      1199.014996\n",
      "min    733953.000000\n",
      "25%    734940.750000\n",
      "50%    735990.500000\n",
      "75%    737027.250000\n",
      "max    738077.000000\n"
     ]
    }
   ],
   "source": [
    "# Training set\n",
    "print(X_train.describe())"
   ]
  },
  {
   "cell_type": "markdown",
   "id": "1d4e9f3c",
   "metadata": {},
   "source": [
    "<h4>Creating a model for training, plotting and testing.</h4>\n",
    "<h4>Visualization of the prediction and data.</h4>\n",
    "<h4>In the visualization the blue points are based on the data, and the red line represents the prediction.</h4>"
   ]
  },
  {
   "cell_type": "code",
   "execution_count": 9,
   "id": "f27afb0a",
   "metadata": {},
   "outputs": [],
   "source": [
    "# Training model\n",
    "linear_regressor = LinearRegression()\n",
    "linear_regressor.fit(X_train, y_train)\n",
    "Y_pred = linear_regressor.predict(X_train)"
   ]
  },
  {
   "cell_type": "code",
   "execution_count": 10,
   "id": "91fddd04",
   "metadata": {},
   "outputs": [
    {
     "data": {
      "image/png": "[encoded data removed]",
      "text/plain": [
       "<Figure size 1080x720 with 1 Axes>"
      ]
     },
     "metadata": {
      "needs_background": "light"
     },
     "output_type": "display_data"
    },
    {
     "name": "stdout",
     "output_type": "stream",
     "text": [
      "MSE = 20618.974317876276\n"
     ]
    }
   ],
   "source": [
    "# Plotting model\n",
    "plt.figure(figsize=(15,10))   \n",
    "# Source: https://github.com/umaimehm/Intro_to_AI_2021/tree/main/Lab4\n",
    "plt.scatter(X_train, y_train)   \n",
    "plt.plot(X_train, Y_pred, color='red') \n",
    "plt.show()                               \n",
    "print( \"MSE = \"+str(metrics.mean_squared_error(y_train,Y_pred))) "
   ]
  },
  {
   "cell_type": "code",
   "execution_count": 11,
   "id": "d4db2b7f",
   "metadata": {},
   "outputs": [
    {
     "data": {
      "image/png": "[encoded data removed]",
      "text/plain": [
       "<Figure size 1080x360 with 1 Axes>"
      ]
     },
     "metadata": {
      "needs_background": "light"
     },
     "output_type": "display_data"
    },
    {
     "name": "stdout",
     "output_type": "stream",
     "text": [
      "MSE = 22444.686184611015\n"
     ]
    }
   ],
   "source": [
    "# Testing model\n",
    "# Source: https://github.com/umaimehm/Intro_to_AI_2021/tree/main/Lab4\n",
    "Y_pred = linear_regressor.predict(X_test)\n",
    "\n",
    "# Plotting test model\n",
    "plt.figure(figsize=(15,5))\n",
    "plt.scatter(X_test, y_test)\n",
    "plt.plot(X_test, Y_pred, color='red')\n",
    "plt.show()\n",
    "print( \"MSE = \"+str(metrics.mean_squared_error(y_test,Y_pred)))"
   ]
  }
 ],
 "metadata": {
  "kernelspec": {
   "display_name": "Python 3 (ipykernel)",
   "language": "python",
   "name": "python3"
  },
  "language_info": {
   "codemirror_mode": {
    "name": "ipython",
    "version": 3
   },
   "file_extension": ".py",
   "mimetype": "text/x-python",
   "name": "python",
   "nbconvert_exporter": "python",
   "pygments_lexer": "ipython3",
   "version": "3.8.11"
  }
 },
 "nbformat": 4,
 "nbformat_minor": 5
}
